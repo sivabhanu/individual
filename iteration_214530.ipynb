{
  "nbformat": 4,
  "nbformat_minor": 0,
  "metadata": {
    "colab": {
      "name": "iteration_214530.ipynb",
      "provenance": [],
      "authorship_tag": "ABX9TyOBW4cGDpHtlPOKyxHeOWb+",
      "include_colab_link": true
    },
    "kernelspec": {
      "name": "python3",
      "display_name": "Python 3"
    },
    "language_info": {
      "name": "python"
    }
  },
  "cells": [
    {
      "cell_type": "markdown",
      "metadata": {
        "id": "view-in-github",
        "colab_type": "text"
      },
      "source": [
        "<a href=\"https://colab.research.google.com/github/sivabhanu/individual/blob/main/iteration_214530.ipynb\" target=\"_parent\"><img src=\"https://colab.research.google.com/assets/colab-badge.svg\" alt=\"Open In Colab\"/></a>"
      ]
    },
    {
      "cell_type": "code",
      "execution_count": null,
      "metadata": {
        "id": "bOh00fi0aViq",
        "colab": {
          "base_uri": "https://localhost:8080/"
        },
        "outputId": "8462c309-71c2-4341-9a20-6fdfa0e2fbc6"
      },
      "outputs": [
        {
          "output_type": "stream",
          "name": "stdout",
          "text": [
            "1\n",
            "2\n",
            "3\n",
            "4\n",
            "5\n"
          ]
        }
      ],
      "source": [
        "i = 1\n",
        "while i < 6:\n",
        "  print(i)\n",
        "  i += 1     #increment"
      ]
    },
    {
      "cell_type": "code",
      "source": [
        "i = 1\n",
        "while i < 6:\n",
        "  print(i)\n",
        "  if i == 3:\n",
        "    break\n",
        "  i += 1"
      ],
      "metadata": {
        "colab": {
          "base_uri": "https://localhost:8080/"
        },
        "id": "K5GVbbYicpAt",
        "outputId": "5f254785-0263-4329-b3fb-872e5c91f26a"
      },
      "execution_count": null,
      "outputs": [
        {
          "output_type": "stream",
          "name": "stdout",
          "text": [
            "1\n",
            "2\n",
            "3\n"
          ]
        }
      ]
    },
    {
      "cell_type": "code",
      "source": [
        "i = 0\n",
        "while i < 6:\n",
        "  i += 1\n",
        "  if i == 3:\n",
        "    continue\n",
        "  print(i)"
      ],
      "metadata": {
        "colab": {
          "base_uri": "https://localhost:8080/"
        },
        "id": "nlkvMj3vc85g",
        "outputId": "9db3db64-250b-4066-8f9b-65dc847086e1"
      },
      "execution_count": null,
      "outputs": [
        {
          "output_type": "stream",
          "name": "stdout",
          "text": [
            "1\n",
            "2\n",
            "4\n",
            "5\n",
            "6\n"
          ]
        }
      ]
    },
    {
      "cell_type": "code",
      "source": [
        "i = 1\n",
        "while i < 6:\n",
        "  print(i)\n",
        "  i += 1\n",
        "else:\n",
        "  print(\"i is no longer less than 6\")\n"
      ],
      "metadata": {
        "colab": {
          "base_uri": "https://localhost:8080/"
        },
        "id": "xNTBcazSdGFr",
        "outputId": "2a41e619-4bb5-47d5-fe50-06f273c4d33e"
      },
      "execution_count": null,
      "outputs": [
        {
          "output_type": "stream",
          "name": "stdout",
          "text": [
            "1\n",
            "2\n",
            "3\n",
            "4\n",
            "5\n",
            "i is no longer less than 6\n"
          ]
        }
      ]
    },
    {
      "cell_type": "code",
      "source": [
        "import numpy as np\n",
        "import pandas as pd\n",
        "#dataframe is set of rows and columns or cells\n",
        "my_data =([[0,3],[10,7],[20,9],[30,14],[40,15]])\n",
        "\n",
        "my_column_names = (\"temperature\" , \"activity\")\n",
        "\n",
        "my_dataframe = pd.DataFrame(data=my_data,columns=my_column_names)\n",
        "\n",
        "print(my_dataframe)"
      ],
      "metadata": {
        "id": "8K-IY2LRdREe",
        "colab": {
          "base_uri": "https://localhost:8080/"
        },
        "outputId": "db42bb56-5418-4146-f852-5a4f8ba4fc3d"
      },
      "execution_count": null,
      "outputs": [
        {
          "output_type": "stream",
          "name": "stdout",
          "text": [
            "   temperature  activity\n",
            "0            0         3\n",
            "1           10         7\n",
            "2           20         9\n",
            "3           30        14\n",
            "4           40        15\n"
          ]
        }
      ]
    },
    {
      "cell_type": "code",
      "source": [
        "import numpy as np\n",
        "import pandas as pd\n",
        "\n",
        "my_class_data=([1,\"a\",90],[2,\"b\",70],[3,\"c\",80],[4,\"d\",96],[5,\"e\",56])\n",
        "\n",
        "my_column = (\"reg_no\",\"name\",\"marks\")\n",
        "\n",
        "\n",
        "my_data_frame=pd.DataFrame(data=my_class_data,columns=my_column)\n",
        "\n",
        "print(my_data_frame)\n"
      ],
      "metadata": {
        "colab": {
          "base_uri": "https://localhost:8080/"
        },
        "id": "2t4SURhcL5En",
        "outputId": "0de0f486-29fd-48ad-ed8c-61aade90d497"
      },
      "execution_count": null,
      "outputs": [
        {
          "output_type": "stream",
          "name": "stdout",
          "text": [
            "   reg_no name  marks\n",
            "0       1    a     90\n",
            "1       2    b     70\n",
            "2       3    c     80\n",
            "3       4    d     96\n",
            "4       5    e     56\n"
          ]
        }
      ]
    },
    {
      "cell_type": "code",
      "source": [
        ""
      ],
      "metadata": {
        "id": "tyqg8NTDPLwJ"
      },
      "execution_count": null,
      "outputs": []
    }
  ]
}