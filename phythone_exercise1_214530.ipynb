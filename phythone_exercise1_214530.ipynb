{
  "nbformat": 4,
  "nbformat_minor": 0,
  "metadata": {
    "colab": {
      "name": "phythone_exercise1_214530.ipynb",
      "provenance": [],
      "collapsed_sections": [],
      "authorship_tag": "ABX9TyOYAg0S4h86Y+v1tnn1ubJl",
      "include_colab_link": true
    },
    "kernelspec": {
      "name": "python3",
      "display_name": "Python 3"
    },
    "language_info": {
      "name": "python"
    }
  },
  "cells": [
    {
      "cell_type": "markdown",
      "metadata": {
        "id": "view-in-github",
        "colab_type": "text"
      },
      "source": [
        "<a href=\"https://colab.research.google.com/github/sivabhanu/individual/blob/main/phythone_exercise1_214530.ipynb\" target=\"_parent\"><img src=\"https://colab.research.google.com/assets/colab-badge.svg\" alt=\"Open In Colab\"/></a>"
      ]
    },
    {
      "cell_type": "code",
      "execution_count": null,
      "metadata": {
        "colab": {
          "base_uri": "https://localhost:8080/"
        },
        "id": "Ia1MM-5xdfTW",
        "outputId": "ef65840d-ed5f-49bd-aac8-d07fd2d659f6"
      },
      "outputs": [
        {
          "output_type": "stream",
          "name": "stdout",
          "text": [
            "44\n"
          ]
        }
      ],
      "source": [
        "x=43\n",
        "x=x+1\n",
        "print(x)"
      ]
    },
    {
      "cell_type": "code",
      "source": [
        "primt(\"hello, world\")  #primt is not a keyword"
      ],
      "metadata": {
        "colab": {
          "base_uri": "https://localhost:8080/",
          "height": 165
        },
        "id": "TGGWn_7pegF3",
        "outputId": "9afb73dd-258a-446a-c0f2-e2c5f6bb3dff"
      },
      "execution_count": null,
      "outputs": [
        {
          "output_type": "error",
          "ename": "NameError",
          "evalue": "ignored",
          "traceback": [
            "\u001b[0;31m---------------------------------------------------------------------------\u001b[0m",
            "\u001b[0;31mNameError\u001b[0m                                 Traceback (most recent call last)",
            "\u001b[0;32m<ipython-input-2-b7bde1e9f89d>\u001b[0m in \u001b[0;36m<module>\u001b[0;34m()\u001b[0m\n\u001b[0;32m----> 1\u001b[0;31m \u001b[0mprimt\u001b[0m\u001b[0;34m(\u001b[0m\u001b[0;34m\"hello, world\"\u001b[0m\u001b[0;34m)\u001b[0m\u001b[0;34m\u001b[0m\u001b[0;34m\u001b[0m\u001b[0m\n\u001b[0m",
            "\u001b[0;31mNameError\u001b[0m: name 'primt' is not defined"
          ]
        }
      ]
    },
    {
      "cell_type": "code",
      "source": [
        "print(\"hello, world\")"
      ],
      "metadata": {
        "colab": {
          "base_uri": "https://localhost:8080/"
        },
        "id": "aD4p2cxqfJ7v",
        "outputId": "6d39a78e-822a-4dcc-e639-bb6171ef5125"
      },
      "execution_count": null,
      "outputs": [
        {
          "output_type": "stream",
          "name": "stdout",
          "text": [
            "hello, world\n"
          ]
        }
      ]
    },
    {
      "cell_type": "code",
      "source": [
        "x=123\n",
        "type(x)"
      ],
      "metadata": {
        "colab": {
          "base_uri": "https://localhost:8080/"
        },
        "id": "fqIfXuwEfRoa",
        "outputId": "7ebcd6c2-a897-40d2-ea00-ed84a4c46c85"
      },
      "execution_count": null,
      "outputs": [
        {
          "output_type": "execute_result",
          "data": {
            "text/plain": [
              "int"
            ]
          },
          "metadata": {},
          "execution_count": 4
        }
      ]
    },
    {
      "cell_type": "code",
      "source": [
        "width=12\n",
        "height=12.0\n",
        "\n",
        "width/2\n",
        "height/3\n",
        "1+2*5\n",
        "width//2\n",
        "width/2.0"
      ],
      "metadata": {
        "colab": {
          "base_uri": "https://localhost:8080/"
        },
        "id": "FbYzgz4sf_fY",
        "outputId": "87fc2876-c607-44e3-8002-4d681f2246d4"
      },
      "execution_count": null,
      "outputs": [
        {
          "output_type": "execute_result",
          "data": {
            "text/plain": [
              "6.0"
            ]
          },
          "metadata": {},
          "execution_count": 27
        }
      ]
    },
    {
      "cell_type": "code",
      "source": [
        "temp = 100\n",
        "\n",
        "if temp == 98.5 :\n",
        "   print (\"you are healthy\")\n",
        "else:\n",
        "   print (\"your are unhealthy\")\n"
      ],
      "metadata": {
        "colab": {
          "base_uri": "https://localhost:8080/"
        },
        "id": "FAwYhs3c7FCz",
        "outputId": "6d9f8dbe-dd73-4825-a574-401cadfa5316"
      },
      "execution_count": null,
      "outputs": [
        {
          "output_type": "stream",
          "name": "stdout",
          "text": [
            "your are unhealthy\n"
          ]
        }
      ]
    },
    {
      "cell_type": "code",
      "source": [
        "x=2022        #x = Year   \n",
        "if x%4 == 0 and x%100 !=0 or x%400 == 0  : \n",
        "  print(\"it is a leap year\")\n",
        "else :\n",
        "  print(\"it is not a leap year\")"
      ],
      "metadata": {
        "colab": {
          "base_uri": "https://localhost:8080/"
        },
        "id": "3-6S0hAqDqnj",
        "outputId": "de8d0dca-aca5-4d25-df87-936276a076eb"
      },
      "execution_count": null,
      "outputs": [
        {
          "output_type": "stream",
          "name": "stdout",
          "text": [
            "it is not a leap year\n"
          ]
        }
      ]
    },
    {
      "cell_type": "code",
      "source": [
        "x= \"bhanu\"    #Enter Your Name\n",
        "print(\"hello\",x)"
      ],
      "metadata": {
        "colab": {
          "base_uri": "https://localhost:8080/"
        },
        "id": "EXu1S41uuedJ",
        "outputId": "8b6574f3-87f9-4a20-c524-104d3134040f"
      },
      "execution_count": null,
      "outputs": [
        {
          "output_type": "stream",
          "name": "stdout",
          "text": [
            "hello bhanu\n"
          ]
        }
      ]
    },
    {
      "cell_type": "code",
      "source": [
        "x = 35       #Enter Hours\n",
        "y = 2.75     #Enter Rate\n",
        "x*y\n",
        "print (\"pay =\",x*y)"
      ],
      "metadata": {
        "colab": {
          "base_uri": "https://localhost:8080/"
        },
        "id": "bftU58FSzzNu",
        "outputId": "e5620aad-e6ee-45f0-a605-3153dc131894"
      },
      "execution_count": null,
      "outputs": [
        {
          "output_type": "stream",
          "name": "stdout",
          "text": [
            "pay = 96.25\n"
          ]
        }
      ]
    },
    {
      "cell_type": "code",
      "source": [
        "x = 45       #Enter Hours\n",
        "y = 10       #Enter Rate\n",
        "if x>40 :\n",
        "  z= 40*y+(x-40)*(y*1.5)\n",
        "  print(\"pay =\",z)\n",
        "else :\n",
        "  z = x*y\n",
        "  print(\"pay =\",z)"
      ],
      "metadata": {
        "id": "4qNs8xNi1vhM",
        "colab": {
          "base_uri": "https://localhost:8080/"
        },
        "outputId": "d8b52ca9-f32b-48fc-d0c2-6d1c0048058c"
      },
      "execution_count": null,
      "outputs": [
        {
          "output_type": "stream",
          "name": "stdout",
          "text": [
            "pay = 475.0\n"
          ]
        }
      ]
    },
    {
      "cell_type": "code",
      "source": [
        "try:\n",
        "   x = 40\n",
        "   y = 10\n",
        "   if (x>40):\n",
        "     z= 40*y+(x-40)*(y*1.5)\n",
        "     print(\"pay =\",z)\n",
        "   else:\n",
        "     z=x*y   \n",
        "     print(\"pay =\",z)\n",
        "except:\n",
        "  print(\"Please enter numeric input\")"
      ],
      "metadata": {
        "id": "9PNpLuzajylH",
        "colab": {
          "base_uri": "https://localhost:8080/"
        },
        "outputId": "2b529a7f-e708-4f46-a043-1c3d470c7177"
      },
      "execution_count": null,
      "outputs": [
        {
          "output_type": "stream",
          "name": "stdout",
          "text": [
            "pay = 400\n"
          ]
        }
      ]
    },
    {
      "cell_type": "code",
      "source": [
        "x=10\n",
        "if (x < 0.0 or x > 1.0)  :\n",
        "  print(\"score is out of range\")\n",
        "elif x>= 0.9  :\n",
        "  print(\"A\")\n",
        "elif x>= 0.8 :\n",
        "  print(\"B\")\n",
        "elif x>= 0.7 :\n",
        "  print(\"C\")\n",
        "elif x>= 0.6 :\n",
        "  print(\"D\")\n",
        "else :\n",
        "  print(\"f\") \n",
        "\n",
        "    "
      ],
      "metadata": {
        "colab": {
          "base_uri": "https://localhost:8080/"
        },
        "id": "sPwg31l47keN",
        "outputId": "4357fd56-f1da-4f08-fb77-d9a87a4105cd"
      },
      "execution_count": null,
      "outputs": [
        {
          "output_type": "stream",
          "name": "stdout",
          "text": [
            "score is out of range\n"
          ]
        }
      ]
    },
    {
      "cell_type": "code",
      "source": [
        "def fred():\n",
        "  print(\"Zap\")\n",
        "def jane():\n",
        "  print(\"ABC\")\n",
        "jane()\n",
        "fred()\n",
        "jane()"
      ],
      "metadata": {
        "colab": {
          "base_uri": "https://localhost:8080/"
        },
        "id": "K0WyAQwq1WyV",
        "outputId": "f2db7a6d-6b28-4a49-b1ad-2ae9b47e7785"
      },
      "execution_count": null,
      "outputs": [
        {
          "output_type": "stream",
          "name": "stdout",
          "text": [
            "ABC\n",
            "Zap\n",
            "ABC\n"
          ]
        }
      ]
    },
    {
      "cell_type": "code",
      "source": [
        "def computepay(Hours,rate):\n",
        "  if(Hours>40):\n",
        "    pay=(Hours-40)*1.5*rate+(40*rate)\n",
        "  else:\n",
        "    pay=Hours*rate  \n",
        "  return pay\n",
        "\n",
        "Hours = 45\n",
        "rate = 10\n",
        "pay = computepay(Hours , rate)  \n",
        "print( 'pay :',pay)\n"
      ],
      "metadata": {
        "colab": {
          "base_uri": "https://localhost:8080/"
        },
        "id": "RZjTQ1Zs4Yi_",
        "outputId": "69998847-a17a-48e3-d6d6-917d2625185e"
      },
      "execution_count": null,
      "outputs": [
        {
          "output_type": "stream",
          "name": "stdout",
          "text": [
            "pay : 475.0\n"
          ]
        }
      ]
    },
    {
      "cell_type": "code",
      "source": [
        "def computegrade(score):\n",
        "  if(score<0.0 or score>1.0) :\n",
        "    return(\"Score is out of range\")\n",
        "  elif(score>=0.9):\n",
        "    return(\"A\")\n",
        "  elif(score>=0.8):\n",
        "    return(\"B\")\n",
        "  elif(score>=0.7):\n",
        "    return(\"C\")\n",
        "  elif(score>=0.6):\n",
        "    return(\"D\")      \n",
        "  else:\n",
        "    return(\"F\")\n",
        "try:\n",
        "  score=0.5\n",
        "  print(computegrade(score))\n",
        "except Exception :\n",
        "  print(\"Enter a number\")\n",
        "\n"
      ],
      "metadata": {
        "id": "fR90tLJG7YP1"
      },
      "execution_count": null,
      "outputs": []
    },
    {
      "cell_type": "code",
      "source": [
        "count=0\n",
        "total=0\n",
        "while True :\n",
        "  value=input('Enter the number\\n')\n",
        "  if (value=='done'):\n",
        "    break\n",
        "  try:\n",
        "    value1=float(value)\n",
        "  except:\n",
        "    print('Invalid input')\n",
        "  total=total+value1\n",
        "  count=count+1\n",
        "print(total,count,total/count)"
      ],
      "metadata": {
        "colab": {
          "base_uri": "https://localhost:8080/"
        },
        "id": "VJ0qoTy3-dvU",
        "outputId": "0d66125f-473c-40b4-d0a3-db8946c69cbf"
      },
      "execution_count": null,
      "outputs": [
        {
          "output_type": "stream",
          "name": "stdout",
          "text": [
            "Enter the number\n",
            "4\n",
            "Enter the number\n",
            "5\n",
            "Enter the number\n",
            "bad data\n",
            "Invalid input\n",
            "Enter the number\n",
            "7\n",
            "Enter the number\n",
            "done\n",
            "21.0 4 5.25\n"
          ]
        }
      ]
    },
    {
      "cell_type": "code",
      "source": [
        "\n",
        "count=0\n",
        "list=[]\n",
        "while True :\n",
        "  num=input('Enter the number\\n')\n",
        "  if (num=='done'):\n",
        "    break\n",
        "  try:\n",
        "    value1=float(num)\n",
        "    list.append(value1)\n",
        "    \n",
        "  except:\n",
        "    print('Invalid input')\n",
        "\n",
        "  if count==0 :\n",
        "    min_val=value1\n",
        "    max_val=value1\n",
        "  elif value1<min_val:\n",
        "    min_val=value1\n",
        "  elif value1>max_val:\n",
        "    max_val=value1\n",
        "\n",
        "  count=count+1\n",
        "print('The list of ements are :',list)\n",
        "print(min_val , max_val)"
      ],
      "metadata": {
        "colab": {
          "base_uri": "https://localhost:8080/"
        },
        "id": "FkufT_3oFHlk",
        "outputId": "895d8a0c-92e0-48ee-b2f7-8c06b2fba81a"
      },
      "execution_count": null,
      "outputs": [
        {
          "output_type": "stream",
          "name": "stdout",
          "text": [
            "Enter the number\n",
            "5\n",
            "Enter the number\n",
            "6\n",
            "Enter the number\n",
            "done\n",
            "The list of ements are : [5.0, 6.0]\n",
            "5.0 6.0\n"
          ]
        }
      ]
    },
    {
      "cell_type": "code",
      "source": [
        "import pandas as pd\n",
        "my_class_data = ([[224501,'A', 90], [224502,'B', 90], [224503, 'C', 89], [224504, 'D', 82], [224505, 'E', 84]])\n",
        "my_classCol_names = ['Reg_No', 'Name', 'Eco_Marks']\n",
        "\n",
        "my_class_dataframe = pd.DataFrame(data=my_class_data, columns=my_classCol_names)\n",
        "\n",
        "print(my_class_dataframe)\n",
        "\n"
      ],
      "metadata": {
        "colab": {
          "base_uri": "https://localhost:8080/"
        },
        "id": "6Eqtp8IYQeeG",
        "outputId": "9a1274d6-9624-4e5b-8e40-e123cc8f5289"
      },
      "execution_count": null,
      "outputs": [
        {
          "output_type": "stream",
          "name": "stdout",
          "text": [
            "   Reg_No Name  Eco_Marks\n",
            "0  224501    A         90\n",
            "1  224502    B         90\n",
            "2  224503    C         89\n",
            "3  224504    D         82\n",
            "4  224505    E         84\n"
          ]
        }
      ]
    },
    {
      "cell_type": "code",
      "source": [
        "words =[]\n",
        "from google.colab import drive\n",
        "drive.mount('/content/drive', force_remount=1) \n",
        "fhand = open('romeo.txt.txt' , 'r')\n",
        "for line in  fhand :\n",
        " for word in line.split(' '):\n",
        "    if word not in words :\n",
        "        words.append(word)\n",
        "print(sorted(words))"
      ],
      "metadata": {
        "colab": {
          "base_uri": "https://localhost:8080/"
        },
        "id": "U2dhsfmLFsYm",
        "outputId": "0512b886-b7ae-455a-d305-6c10768f81b2"
      },
      "execution_count": 7,
      "outputs": [
        {
          "output_type": "stream",
          "name": "stdout",
          "text": [
            "Mounted at /content/drive\n",
            "['Arise', 'But', 'It', 'Juliet', 'Who', 'already', 'and', 'breaks\\n', 'east', 'envious', 'fair', 'grief', 'is', 'kill', 'light', 'moon\\n', 'pale', 'sick', 'soft', 'sun', 'sun\\n', 'the', 'through', 'what', 'window', 'with', 'yonder']\n"
          ]
        }
      ]
    },
    {
      "cell_type": "code",
      "source": [
        "my_nums = []\n",
        "\n",
        "while True:\n",
        "  a = input(\"Enter a number:\")\n",
        "  if a == 'done' :\n",
        "    break\n",
        "  try:\n",
        "    val = float(a)\n",
        "  except:\n",
        "    print(\"invalid input\")\n",
        "    continue\n",
        "  my_nums.append(val)\n",
        " \n",
        "\n",
        "print(min(my_nums) )\n",
        "print(max(my_nums))\n"
      ],
      "metadata": {
        "colab": {
          "base_uri": "https://localhost:8080/"
        },
        "id": "0mnVE6VkF11B",
        "outputId": "9e814391-90df-43a7-ace6-9e56e7ed8a14"
      },
      "execution_count": 8,
      "outputs": [
        {
          "output_type": "stream",
          "name": "stdout",
          "text": [
            "Enter a number:mbox-short.text\n",
            "invalid input\n",
            "Enter a number:5\n",
            "Enter a number:5\n",
            "Enter a number:6\n",
            "Enter a number:4\n",
            "Enter a number:8\n",
            "Enter a number:done\n",
            "4.0\n",
            "8.0\n"
          ]
        }
      ]
    },
    {
      "cell_type": "code",
      "source": [
        "from google.colab import drive\n",
        "drive.mount('/content/drive', force_remount=1)\n",
        "data = input(\"Enter the name of the file you want to be processed\")\n",
        "\n",
        "email_data = open(data).read()\n",
        "words = email_data.split()\n",
        "i = 0\n",
        "count=0\n",
        "length = len(words)\n",
        "\n",
        "while i < length:\n",
        "    if words[i] == \"From\":\n",
        "      #new_word=words[i]\n",
        "      count +=1\n",
        "    i=i+1\n",
        "print(\"There were\" , count ,\"  lines in the file which starts with the word  from\")"
      ],
      "metadata": {
        "colab": {
          "base_uri": "https://localhost:8080/"
        },
        "id": "rL0iu7-gFxlZ",
        "outputId": "3f8a79d0-45a2-437d-a7a6-ddf19ddfc3e7"
      },
      "execution_count": 10,
      "outputs": [
        {
          "output_type": "stream",
          "name": "stdout",
          "text": [
            "Mounted at /content/drive\n",
            "Enter the name of the file you want to be processedromeo.txt.txt\n",
            "There were 0   lines in the file which starts with the word  from\n"
          ]
        }
      ]
    },
    {
      "cell_type": "code",
      "source": [
        "from google.colab import drive\n",
        "drive.mount('/content/drive', force_remount=1)\n",
        "data = input(\"Enter the name of the file you want to be processed\")\n",
        "email_data = open(data).read()\n",
        "days = dict()\n",
        "words = email_data.split()\n",
        "\n",
        "i = 0\n",
        "length = len(words)\n",
        "\n",
        "while i < length:\n",
        "    if words[i] == \"From\":\n",
        "        days[words[i+2]] = days.get(words[i+2],0) + 1\n",
        "    i = i + 1\n",
        "\n",
        "print(days)"
      ],
      "metadata": {
        "id": "fCEskbXl_TVJ",
        "colab": {
          "base_uri": "https://localhost:8080/"
        },
        "outputId": "f390d9f7-0f31-47fb-9be9-8de9eaff0157"
      },
      "execution_count": 11,
      "outputs": [
        {
          "output_type": "stream",
          "name": "stdout",
          "text": [
            "Mounted at /content/drive\n",
            "Enter the name of the file you want to be processedmbox.txt\n",
            "{'Sat': 183, 'Fri': 886, 'Thu': 1117, 'Wed': 843, 'Tue': 1002, 'Mon': 768, 'Sun': 171, 'Page': 3}\n"
          ]
        }
      ]
    },
    {
      "cell_type": "code",
      "source": [
        "from google.colab import drive\n",
        "drive.mount('/content/drive', force_remount=1)\n",
        "data = input(\"Enter the name of the file you want to be processed\")\n",
        "email_data = open(data).read()\n",
        "sender = dict()\n",
        "#days = dict()\n",
        "words = email_data.split()\n",
        "\n",
        "i = 0\n",
        "length = len(words)\n",
        "\n",
        "while i < length:\n",
        "    if words[i] == \"From\":\n",
        "        #days[words[i+2]] = days.get(words[i+2],0) + 1\n",
        "        sender[words[i+1]] = sender.get(words[i+1],0) + 1\n",
        "    i = i + 1\n",
        "\n",
        "#print(days)\n",
        "print(sender)"
      ],
      "metadata": {
        "id": "TkK6Hp3P_c7x",
        "colab": {
          "base_uri": "https://localhost:8080/"
        },
        "outputId": "bd404ae1-3fc1-40c3-9994-9300c6f79eb8"
      },
      "execution_count": 12,
      "outputs": [
        {
          "output_type": "stream",
          "name": "stdout",
          "text": [
            "Mounted at /content/drive\n",
            "Enter the name of the file you want to be processedmbox.txt\n",
            "{'stephen.marquard@uct.ac.za': 87, 'louis@media.berkeley.edu': 68, 'zqian@umich.edu': 534, 'rjlowe@iupui.edu': 248, 'cwen@iupui.edu': 469, 'gsilver@umich.edu': 78, 'wagnermr@iupui.edu': 124, 'antranig@caret.cam.ac.uk': 52, 'gopal.ramasammycook@gmail.com': 74, 'david.horwitz@uct.ac.za': 192, 'ray@media.berkeley.edu': 80, 'mmmay@indiana.edu': 408, 'stuart.freeman@et.gatech.edu': 51, 'tnguyen@iupui.edu': 18, 'chmaurer@iupui.edu': 326, 'aaronz@vt.edu': 293, 'ian@caret.cam.ac.uk': 268, 'csev@umich.edu': 54, 'jimeng@umich.edu': 276, 'josrodri@iupui.edu': 83, 'knoop@umich.edu': 15, 'bkirschn@umich.edu': 67, 'dlhaines@umich.edu': 223, 'hu2@iupui.edu': 17, 'sgithens@caret.cam.ac.uk': 127, 'arwhyte@umich.edu': 81, 'gbhatnag@umich.edu': 9, 'gjthomas@iupui.edu': 126, 'a.fish@lancaster.ac.uk': 35, 'Site': 3, 'ajpoland@iupui.edu': 110, 'lance@indiana.edu': 24, 'ssmail@indiana.edu': 15, 'jlrenfro@ucdavis.edu': 3, 'nuno@ufp.pt': 81, 'zach.thomas@txstate.edu': 43, 'ktsao@stanford.edu': 30, 'ostermmg@whitman.edu': 50, 'john.ellis@rsmart.com': 22, 'jleasia@umich.edu': 5, 'ggolden@umich.edu': 22, 'thoppaymallika@fhda.edu': 3, 'kimsooil@bu.edu': 33, 'bahollad@indiana.edu': 8, 'jzaremba@unicon.net': 18, 'mbreuker@loi.nl': 18, 'colin.clark@utoronto.ca': 2}\n"
          ]
        }
      ]
    },
    {
      "cell_type": "code",
      "source": [
        "from google.colab import drive\n",
        "drive.mount('/content/drive', force_remount=1)\n",
        "data = input(\"Enter the name of the file you want to be processed\")\n",
        "email_data = open(data).read()\n",
        "domains = dict()\n",
        "\n",
        "words = email_data.split()\n",
        "\n",
        "i = 0\n",
        "length = len(words)\n",
        "\n",
        "while i < length:\n",
        "    if words[i] == \"From\":\n",
        "        emails=words[i+1]\n",
        "        domain=emails.split('@')\n",
        "        domains[domain[1]]=domains.get(domain[1],0)+1\n",
        "    i = i + 1\n",
        "\n",
        "\n",
        "print(domains)"
      ],
      "metadata": {
        "id": "8ATlvSD9_jkv",
        "colab": {
          "base_uri": "https://localhost:8080/"
        },
        "outputId": "ffa06d50-9582-4197-eb37-9585174cab52"
      },
      "execution_count": 13,
      "outputs": [
        {
          "output_type": "stream",
          "name": "stdout",
          "text": [
            "Mounted at /content/drive\n",
            "Enter the name of the file you want to be processedromeo.txt.txt\n",
            "{}\n"
          ]
        }
      ]
    },
    {
      "cell_type": "code",
      "source": [
        "from google.colab import drive\n",
        "drive.mount('/content/drive', force_remount=1)\n",
        "data = input(\"Enter the name of the file you want to be processed\")\n",
        "email_data = open(data).read()\n",
        "sender = dict()\n",
        "#days = dict()\n",
        "words = email_data.split()\n",
        "\n",
        "i = 0\n",
        "length = len(words)\n",
        "\n",
        "while i < length:\n",
        "    if words[i] == \"From\":\n",
        "        #days[words[i+2]] = days.get(words[i+2],0) + 1\n",
        "        sender[words[i+1]] = sender.get(words[i+1],0) + 1\n",
        "    i=i+1\n",
        "#print(sender)    \n",
        "max_address = None\n",
        "max_emails = 0\n",
        "for k in sender:\n",
        "    if sender[k] > max_emails:\n",
        "      max_address = k\n",
        "      max_emails = sender[k]\n",
        "\n",
        "#print(days)\n",
        "print(max_address,max_emails)"
      ],
      "metadata": {
        "id": "wYfaYlPx_nl-",
        "colab": {
          "base_uri": "https://localhost:8080/"
        },
        "outputId": "25951cc7-1aff-45bf-c42b-608aab116407"
      },
      "execution_count": 14,
      "outputs": [
        {
          "output_type": "stream",
          "name": "stdout",
          "text": [
            "Mounted at /content/drive\n",
            "Enter the name of the file you want to be processedromeo.txt.txt\n",
            "None 0\n"
          ]
        }
      ]
    }
  ]
}